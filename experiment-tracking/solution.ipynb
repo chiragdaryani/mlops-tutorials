{
 "cells": [
  {
   "cell_type": "code",
   "execution_count": 23,
   "id": "d6f96675",
   "metadata": {},
   "outputs": [],
   "source": [
    "#check mlflow version"
   ]
  },
  {
   "cell_type": "code",
   "execution_count": 24,
   "id": "adbf2854",
   "metadata": {},
   "outputs": [
    {
     "name": "stdout",
     "output_type": "stream",
     "text": [
      "mlflow, version 2.3.1\r\n"
     ]
    }
   ],
   "source": [
    "!mlflow --version"
   ]
  },
  {
   "cell_type": "code",
   "execution_count": 25,
   "id": "dde1c526",
   "metadata": {},
   "outputs": [],
   "source": [
    "#Answer 1: 2.3.1"
   ]
  },
  {
   "cell_type": "code",
   "execution_count": null,
   "id": "282dcd04",
   "metadata": {},
   "outputs": [],
   "source": []
  },
  {
   "cell_type": "code",
   "execution_count": 26,
   "id": "7333eb91",
   "metadata": {},
   "outputs": [],
   "source": [
    "#preprocess data"
   ]
  },
  {
   "cell_type": "code",
   "execution_count": 27,
   "id": "7abc62af",
   "metadata": {},
   "outputs": [],
   "source": [
    "!python preprocess_data.py --raw_data_path ./data --dest_path ./output"
   ]
  },
  {
   "cell_type": "code",
   "execution_count": 28,
   "id": "68b2704b",
   "metadata": {},
   "outputs": [
    {
     "name": "stdout",
     "output_type": "stream",
     "text": [
      "total 80\r\n",
      "drwxr-xr-x  7 chirag  staff    224 20 May 22:18 \u001b[34mdata\u001b[m\u001b[m\r\n",
      "-rw-r--r--@ 1 chirag  staff   5880 20 May 17:57 homework.md\r\n",
      "-rw-r--r--@ 1 chirag  staff   2125 20 May 22:54 hpo.py\r\n",
      "drwxr-xr-x  6 chirag  staff    192 20 May 23:03 \u001b[34moutput\u001b[m\u001b[m\r\n",
      "-rw-r--r--@ 1 chirag  staff   2529 20 May 23:01 preprocess_data.py\r\n",
      "-rw-r--r--@ 1 chirag  staff   3817 20 May 21:57 register_model.py\r\n",
      "-rw-r--r--  1 chirag  staff  16041 20 May 22:57 solution.ipynb\r\n",
      "-rw-r--r--@ 1 chirag  staff   1292 20 May 23:00 train.py\r\n",
      "\r\n",
      "./data:\r\n",
      "total 8408\r\n",
      "-rw-r--r--@ 1 chirag  staff  1254291 20 May 22:17 green_tripdata_2022-01.parquet\r\n",
      "-rw-r--r--@ 1 chirag  staff  1428262 20 May 22:17 green_tripdata_2022-02.parquet\r\n",
      "-rw-r--r--@ 1 chirag  staff  1615562 20 May 22:17 green_tripdata_2022-03.parquet\r\n",
      "\r\n",
      "./output:\r\n",
      "total 14208\r\n",
      "-rw-r--r--  1 chirag  staff   153660 20 May 23:03 dv.pkl\r\n",
      "-rw-r--r--  1 chirag  staff  2632817 20 May 23:03 test.pkl\r\n",
      "-rw-r--r--  1 chirag  staff  2146163 20 May 23:03 train.pkl\r\n",
      "-rw-r--r--  1 chirag  staff  2336393 20 May 23:03 val.pkl\r\n"
     ]
    }
   ],
   "source": [
    "!ls -R -l"
   ]
  },
  {
   "cell_type": "code",
   "execution_count": 29,
   "id": "cb556825",
   "metadata": {},
   "outputs": [],
   "source": [
    "#size of dv.pkl is 154KB"
   ]
  },
  {
   "cell_type": "code",
   "execution_count": null,
   "id": "03fc70b1",
   "metadata": {},
   "outputs": [],
   "source": []
  },
  {
   "cell_type": "code",
   "execution_count": 30,
   "id": "6c477166",
   "metadata": {},
   "outputs": [],
   "source": [
    "#train a model with autolog enabled"
   ]
  },
  {
   "cell_type": "code",
   "execution_count": 31,
   "id": "08822f06",
   "metadata": {},
   "outputs": [
    {
     "name": "stdout",
     "output_type": "stream",
     "text": [
      "2023/05/20 23:04:39 INFO mlflow.tracking.fluent: Experiment with name 'random-forest-experiment' does not exist. Creating a new experiment.\n",
      "2023/05/20 23:04:53 WARNING mlflow.utils.autologging_utils: MLflow autologging encountered a warning: \"/Users/chirag/opt/miniconda3/envs/mlops_course/lib/python3.9/site-packages/_distutils_hack/__init__.py:33: UserWarning: Setuptools is replacing distutils.\"\n"
     ]
    }
   ],
   "source": [
    "!python train.py"
   ]
  },
  {
   "cell_type": "code",
   "execution_count": 32,
   "id": "c58001dc",
   "metadata": {},
   "outputs": [
    {
     "name": "stdout",
     "output_type": "stream",
     "text": [
      "\u001b[01;34m.\u001b[0m\r\n",
      "├── \u001b[01;34mdata\u001b[0m\r\n",
      "│   ├── \u001b[00mgreen_tripdata_2022-01.parquet\u001b[0m\r\n",
      "│   ├── \u001b[00mgreen_tripdata_2022-02.parquet\u001b[0m\r\n",
      "│   └── \u001b[00mgreen_tripdata_2022-03.parquet\u001b[0m\r\n",
      "├── \u001b[00mhomework.md\u001b[0m\r\n",
      "├── \u001b[00mhpo.py\u001b[0m\r\n",
      "├── \u001b[01;34mmlruns\u001b[0m\r\n",
      "│   ├── \u001b[01;34m0\u001b[0m\r\n",
      "│   │   └── \u001b[00mmeta.yaml\u001b[0m\r\n",
      "│   └── \u001b[01;34m512722333179801045\u001b[0m\r\n",
      "│       ├── \u001b[01;34m2e991127e38c4eb99cf17334592e7d2c\u001b[0m\r\n",
      "│       │   ├── \u001b[01;34martifacts\u001b[0m\r\n",
      "│       │   │   ├── \u001b[00mestimator.html\u001b[0m\r\n",
      "│       │   │   └── \u001b[01;34mmodel\u001b[0m\r\n",
      "│       │   │       ├── \u001b[00mMLmodel\u001b[0m\r\n",
      "│       │   │       ├── \u001b[00mconda.yaml\u001b[0m\r\n",
      "│       │   │       ├── \u001b[00mmodel.pkl\u001b[0m\r\n",
      "│       │   │       ├── \u001b[00mpython_env.yaml\u001b[0m\r\n",
      "│       │   │       └── \u001b[00mrequirements.txt\u001b[0m\r\n",
      "│       │   ├── \u001b[00mmeta.yaml\u001b[0m\r\n",
      "│       │   ├── \u001b[01;34mmetrics\u001b[0m\r\n",
      "│       │   │   ├── \u001b[00mrmse\u001b[0m\r\n",
      "│       │   │   ├── \u001b[00mtraining_mean_absolute_error\u001b[0m\r\n",
      "│       │   │   ├── \u001b[00mtraining_mean_squared_error\u001b[0m\r\n",
      "│       │   │   ├── \u001b[00mtraining_r2_score\u001b[0m\r\n",
      "│       │   │   ├── \u001b[00mtraining_root_mean_squared_error\u001b[0m\r\n",
      "│       │   │   └── \u001b[00mtraining_score\u001b[0m\r\n",
      "│       │   ├── \u001b[01;34mparams\u001b[0m\r\n",
      "│       │   │   ├── \u001b[00mbootstrap\u001b[0m\r\n",
      "│       │   │   ├── \u001b[00mccp_alpha\u001b[0m\r\n",
      "│       │   │   ├── \u001b[00mcriterion\u001b[0m\r\n",
      "│       │   │   ├── \u001b[00mmax_depth\u001b[0m\r\n",
      "│       │   │   ├── \u001b[00mmax_features\u001b[0m\r\n",
      "│       │   │   ├── \u001b[00mmax_leaf_nodes\u001b[0m\r\n",
      "│       │   │   ├── \u001b[00mmax_samples\u001b[0m\r\n",
      "│       │   │   ├── \u001b[00mmin_impurity_decrease\u001b[0m\r\n",
      "│       │   │   ├── \u001b[00mmin_samples_leaf\u001b[0m\r\n",
      "│       │   │   ├── \u001b[00mmin_samples_split\u001b[0m\r\n",
      "│       │   │   ├── \u001b[00mmin_weight_fraction_leaf\u001b[0m\r\n",
      "│       │   │   ├── \u001b[00mn_estimators\u001b[0m\r\n",
      "│       │   │   ├── \u001b[00mn_jobs\u001b[0m\r\n",
      "│       │   │   ├── \u001b[00moob_score\u001b[0m\r\n",
      "│       │   │   ├── \u001b[00mrandom_state\u001b[0m\r\n",
      "│       │   │   ├── \u001b[00mverbose\u001b[0m\r\n",
      "│       │   │   └── \u001b[00mwarm_start\u001b[0m\r\n",
      "│       │   └── \u001b[01;34mtags\u001b[0m\r\n",
      "│       │       ├── \u001b[00mestimator_class\u001b[0m\r\n",
      "│       │       ├── \u001b[00mestimator_name\u001b[0m\r\n",
      "│       │       ├── \u001b[00mmlflow.log-model.history\u001b[0m\r\n",
      "│       │       ├── \u001b[00mmlflow.runName\u001b[0m\r\n",
      "│       │       ├── \u001b[00mmlflow.source.name\u001b[0m\r\n",
      "│       │       ├── \u001b[00mmlflow.source.type\u001b[0m\r\n",
      "│       │       └── \u001b[00mmlflow.user\u001b[0m\r\n",
      "│       └── \u001b[00mmeta.yaml\u001b[0m\r\n",
      "├── \u001b[01;34moutput\u001b[0m\r\n",
      "│   ├── \u001b[00mdv.pkl\u001b[0m\r\n",
      "│   ├── \u001b[00mtest.pkl\u001b[0m\r\n",
      "│   ├── \u001b[00mtrain.pkl\u001b[0m\r\n",
      "│   └── \u001b[00mval.pkl\u001b[0m\r\n",
      "├── \u001b[00mpreprocess_data.py\u001b[0m\r\n",
      "├── \u001b[00mregister_model.py\u001b[0m\r\n",
      "├── \u001b[00msolution.ipynb\u001b[0m\r\n",
      "└── \u001b[00mtrain.py\u001b[0m\r\n",
      "\r\n",
      "12 directories, 52 files\r\n"
     ]
    }
   ],
   "source": [
    "!tree ."
   ]
  },
  {
   "cell_type": "code",
   "execution_count": 33,
   "id": "7b82a812",
   "metadata": {},
   "outputs": [],
   "source": [
    "#we can see our experiment run and with everything logged automatically"
   ]
  },
  {
   "cell_type": "code",
   "execution_count": 34,
   "id": "72e85cb5",
   "metadata": {},
   "outputs": [],
   "source": [
    "#now go to terminal and type : mlflow ui (do this from folder which contains mlruns subfolder)"
   ]
  },
  {
   "cell_type": "code",
   "execution_count": 35,
   "id": "48a2cd58",
   "metadata": {},
   "outputs": [],
   "source": [
    "#Answer 3: Value of max_depth is 10 for this experiment run"
   ]
  },
  {
   "cell_type": "code",
   "execution_count": 36,
   "id": "b0a88110",
   "metadata": {},
   "outputs": [],
   "source": [
    "#Now, terminate the mlflow ui process from terminal. Also, delete the folder \"mlruns\" for next steps."
   ]
  },
  {
   "cell_type": "code",
   "execution_count": null,
   "id": "fb48a1ec",
   "metadata": {},
   "outputs": [],
   "source": []
  },
  {
   "cell_type": "code",
   "execution_count": null,
   "id": "6ce46030",
   "metadata": {},
   "outputs": [],
   "source": []
  },
  {
   "cell_type": "code",
   "execution_count": 37,
   "id": "4375518e",
   "metadata": {},
   "outputs": [],
   "source": [
    "#Launching the tracking server locally\n",
    "#We will select a SQLite db for the backend store and a folder called artifacts for the artifacts store"
   ]
  },
  {
   "cell_type": "code",
   "execution_count": 38,
   "id": "6f7bd8e5",
   "metadata": {},
   "outputs": [],
   "source": [
    "#go to terminal and type:\n",
    "#mlflow server --backend-store-uri sqlite:///backend.db --default-artifact-root ./artifacts\n",
    "\n",
    "#You can access the tracking server at : http://127.0.0.1:5000"
   ]
  },
  {
   "cell_type": "code",
   "execution_count": null,
   "id": "52b317bd",
   "metadata": {},
   "outputs": [],
   "source": []
  },
  {
   "cell_type": "code",
   "execution_count": 39,
   "id": "aaa010f8",
   "metadata": {},
   "outputs": [],
   "source": [
    "#Tune the hyperparameters of the model"
   ]
  },
  {
   "cell_type": "code",
   "execution_count": 44,
   "id": "92a96ae8",
   "metadata": {},
   "outputs": [
    {
     "name": "stdout",
     "output_type": "stream",
     "text": [
      "\u001b[32m[I 2023-05-20 23:09:14,004]\u001b[0m A new study created in memory with name: no-name-3caf92ec-3f69-4d86-8132-15d2dd5cf3c6\u001b[0m\n",
      "\u001b[32m[I 2023-05-20 23:09:15,878]\u001b[0m Trial 0 finished with value: 2.451379690825458 and parameters: {'n_estimators': 25, 'max_depth': 20, 'min_samples_split': 8, 'min_samples_leaf': 3}. Best is trial 0 with value: 2.451379690825458.\u001b[0m\n",
      "\u001b[32m[I 2023-05-20 23:09:16,065]\u001b[0m Trial 1 finished with value: 2.4667366020368333 and parameters: {'n_estimators': 16, 'max_depth': 4, 'min_samples_split': 2, 'min_samples_leaf': 4}. Best is trial 0 with value: 2.451379690825458.\u001b[0m\n",
      "\u001b[32m[I 2023-05-20 23:09:17,600]\u001b[0m Trial 2 finished with value: 2.449827329704216 and parameters: {'n_estimators': 34, 'max_depth': 15, 'min_samples_split': 2, 'min_samples_leaf': 4}. Best is trial 2 with value: 2.449827329704216.\u001b[0m\n",
      "\u001b[32m[I 2023-05-20 23:09:18,095]\u001b[0m Trial 3 finished with value: 2.460983516558473 and parameters: {'n_estimators': 44, 'max_depth': 5, 'min_samples_split': 3, 'min_samples_leaf': 1}. Best is trial 2 with value: 2.449827329704216.\u001b[0m\n",
      "\u001b[32m[I 2023-05-20 23:09:18,792]\u001b[0m Trial 4 finished with value: 2.453877262701052 and parameters: {'n_estimators': 22, 'max_depth': 11, 'min_samples_split': 5, 'min_samples_leaf': 2}. Best is trial 2 with value: 2.449827329704216.\u001b[0m\n",
      "\u001b[32m[I 2023-05-20 23:09:19,051]\u001b[0m Trial 5 finished with value: 2.4720122094960733 and parameters: {'n_estimators': 35, 'max_depth': 3, 'min_samples_split': 4, 'min_samples_leaf': 2}. Best is trial 2 with value: 2.449827329704216.\u001b[0m\n",
      "\u001b[32m[I 2023-05-20 23:09:20,465]\u001b[0m Trial 6 finished with value: 2.4516421799356767 and parameters: {'n_estimators': 28, 'max_depth': 16, 'min_samples_split': 3, 'min_samples_leaf': 3}. Best is trial 2 with value: 2.449827329704216.\u001b[0m\n",
      "\u001b[32m[I 2023-05-20 23:09:20,641]\u001b[0m Trial 7 finished with value: 2.5374040268274087 and parameters: {'n_estimators': 34, 'max_depth': 1, 'min_samples_split': 7, 'min_samples_leaf': 1}. Best is trial 2 with value: 2.449827329704216.\u001b[0m\n",
      "\u001b[32m[I 2023-05-20 23:09:21,453]\u001b[0m Trial 8 finished with value: 2.455971238567075 and parameters: {'n_estimators': 12, 'max_depth': 19, 'min_samples_split': 10, 'min_samples_leaf': 4}. Best is trial 2 with value: 2.449827329704216.\u001b[0m\n",
      "\u001b[32m[I 2023-05-20 23:09:21,600]\u001b[0m Trial 9 finished with value: 2.486106021576535 and parameters: {'n_estimators': 22, 'max_depth': 2, 'min_samples_split': 8, 'min_samples_leaf': 2}. Best is trial 2 with value: 2.449827329704216.\u001b[0m\n"
     ]
    }
   ],
   "source": [
    "!python hpo.py"
   ]
  },
  {
   "cell_type": "code",
   "execution_count": null,
   "id": "257e9b22",
   "metadata": {},
   "outputs": [],
   "source": [
    "#results check at http://127.0.0.1:5000. sort runs by rmse. get the lowest rmse:\n",
    "#Answer 4: 2.45"
   ]
  },
  {
   "cell_type": "code",
   "execution_count": null,
   "id": "32653af0",
   "metadata": {},
   "outputs": [],
   "source": []
  },
  {
   "cell_type": "code",
   "execution_count": 45,
   "id": "df289041",
   "metadata": {},
   "outputs": [],
   "source": [
    "#Promote the best model to the model registry"
   ]
  },
  {
   "cell_type": "code",
   "execution_count": 46,
   "id": "43fbb8e9",
   "metadata": {},
   "outputs": [
    {
     "name": "stdout",
     "output_type": "stream",
     "text": [
      "2023/05/20 23:17:54 INFO mlflow.tracking.fluent: Experiment with name 'random-forest-best-models' does not exist. Creating a new experiment.\n",
      "2023/05/20 23:18:00 WARNING mlflow.utils.autologging_utils: MLflow autologging encountered a warning: \"/Users/chirag/opt/miniconda3/envs/mlops_course/lib/python3.9/site-packages/_distutils_hack/__init__.py:33: UserWarning: Setuptools is replacing distutils.\"\n",
      "Successfully registered model 'nyc-taxi-duration'.\n",
      "2023/05/20 23:18:16 INFO mlflow.tracking._model_registry.client: Waiting up to 300 seconds for model version to finish creation. Model name: nyc-taxi-duration, version 1\n",
      "Created version '1' of model 'nyc-taxi-duration'.\n"
     ]
    }
   ],
   "source": [
    "!python register_model.py"
   ]
  },
  {
   "cell_type": "code",
   "execution_count": null,
   "id": "ca949009",
   "metadata": {},
   "outputs": [],
   "source": [
    "#results check at http://127.0.0.1:5000. New experiment created, 5 models and metrics logged, \n",
    "#and best model promoted to registry.\n",
    "\n",
    "#Answer 5: test_rmse 2.285"
   ]
  },
  {
   "cell_type": "code",
   "execution_count": null,
   "id": "e0a49ce7",
   "metadata": {},
   "outputs": [],
   "source": []
  },
  {
   "cell_type": "code",
   "execution_count": null,
   "id": "c7e48571",
   "metadata": {},
   "outputs": [],
   "source": []
  },
  {
   "cell_type": "code",
   "execution_count": null,
   "id": "b19571b8",
   "metadata": {},
   "outputs": [],
   "source": [
    "#Answer 6:\n",
    "'''\n",
    "The model registry contains info about the model:\n",
    "\n",
    "Version number\n",
    "Source experiment\n",
    "Model signature\n",
    "All the above answers are correct --> Answer\n",
    "'''"
   ]
  }
 ],
 "metadata": {
  "kernelspec": {
   "display_name": "Python 3 (ipykernel)",
   "language": "python",
   "name": "python3"
  },
  "language_info": {
   "codemirror_mode": {
    "name": "ipython",
    "version": 3
   },
   "file_extension": ".py",
   "mimetype": "text/x-python",
   "name": "python",
   "nbconvert_exporter": "python",
   "pygments_lexer": "ipython3",
   "version": "3.9.13"
  }
 },
 "nbformat": 4,
 "nbformat_minor": 5
}
